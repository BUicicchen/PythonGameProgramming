{
 "cells": [
  {
   "cell_type": "code",
   "execution_count": 2,
   "metadata": {
    "collapsed": false
   },
   "outputs": [
    {
     "data": {
      "text/plain": [
       "'This program finds the averages of a list of numbers given as a parameter to the function'"
      ]
     },
     "execution_count": 2,
     "metadata": {},
     "output_type": "execute_result"
    }
   ],
   "source": [
    "'''This program finds the averages of a list of numbers given as a parameter to the function'''"
   ]
  },
  {
   "cell_type": "code",
   "execution_count": 57,
   "metadata": {
    "collapsed": false
   },
   "outputs": [
    {
     "data": {
      "text/plain": [
       "'\\ndef list_average():\\n    from statistics import mean\\n    bob = [1, 2, 3, 3, 4]\\n    result = mean(bob)\\n    print(result)\\n    return result\\n\\nprint(\"The list average is: \", list_average())\\n'"
      ]
     },
     "execution_count": 57,
     "metadata": {},
     "output_type": "execute_result"
    }
   ],
   "source": [
    "'''\n",
    "def list_average():\n",
    "    from statistics import mean\n",
    "    bob = [1, 2, 3, 3, 4]\n",
    "    result = mean(bob)\n",
    "    print(result)\n",
    "    return result\n",
    "\n",
    "print(\"The list average is: \", list_average())\n",
    "'''"
   ]
  },
  {
   "cell_type": "code",
   "execution_count": 126,
   "metadata": {
    "collapsed": false
   },
   "outputs": [
    {
     "name": "stdout",
     "output_type": "stream",
     "text": [
      "Number skipped:  0\n",
      "Average is:  2.6\n"
     ]
    }
   ],
   "source": [
    "def list_average(x = [1, 2, 3, 3, 4]):\n",
    "    total = 0\n",
    "    number_skipped = 0\n",
    "    for i in x:\n",
    "        if type(i) == str:\n",
    "            print(\"Invalid input!\")\n",
    "            number_skipped += 1\n",
    "            continue\n",
    "        else:\n",
    "            total = total + i\n",
    "    print(\"Number skipped: \", number_skipped)\n",
    "    return total / len(x)\n",
    "print(\"Average is: \" , list_average())"
   ]
  },
  {
   "cell_type": "code",
   "execution_count": 120,
   "metadata": {
    "collapsed": false
   },
   "outputs": [
    {
     "name": "stdout",
     "output_type": "stream",
     "text": [
      "Invalid input!\n",
      "Average is:  3.6666666666666665\n"
     ]
    }
   ],
   "source": [
    "print(\"Average is: \" , list_average([1, 3, 'a', 5, 6, 7]))"
   ]
  },
  {
   "cell_type": "code",
   "execution_count": null,
   "metadata": {
    "collapsed": true
   },
   "outputs": [],
   "source": []
  }
 ],
 "metadata": {
  "kernelspec": {
   "display_name": "Python [Root]",
   "language": "python",
   "name": "Python [Root]"
  },
  "language_info": {
   "codemirror_mode": {
    "name": "ipython",
    "version": 3
   },
   "file_extension": ".py",
   "mimetype": "text/x-python",
   "name": "python",
   "nbconvert_exporter": "python",
   "pygments_lexer": "ipython3",
   "version": "3.5.2"
  }
 },
 "nbformat": 4,
 "nbformat_minor": 0
}
