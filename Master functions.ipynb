{
 "cells": [
  {
   "cell_type": "code",
   "execution_count": 13,
   "metadata": {
    "collapsed": false
   },
   "outputs": [
    {
     "name": "stdout",
     "output_type": "stream",
     "text": [
      "Product is:  120\n",
      "Product is:  630\n"
     ]
    }
   ],
   "source": [
    "'''1. Function that muultiplies all the numbers in a list that skips non-numeric values.'''\n",
    "\n",
    "def list_product(x = [1, 2, 3, 4, 5]):\n",
    "    product = 1\n",
    "    for i in x:\n",
    "        if type(i) == str:\n",
    "            continue\n",
    "        else:\n",
    "            product = product * i\n",
    "    return product\n",
    "print(\"Product is: \" , list_product())\n",
    "\n",
    "print(\"Product is: \" , list_product([1, 3, 'a', 5, 6, 7]))"
   ]
  },
  {
   "cell_type": "code",
   "execution_count": 25,
   "metadata": {
    "collapsed": false
   },
   "outputs": [
    {
     "name": "stdout",
     "output_type": "stream",
     "text": [
      "Answer is:  [1, 3, 6, 10, 15]\n",
      "Answer is:  [1, 4, 9, 15, 22]\n"
     ]
    }
   ],
   "source": [
    "'''2. Accumulate sum of a list. Ex: input is [1, 2, 3, 4, 5], output should be [1, 3, 6, 10, 15]. '''\n",
    "def list_sum(x = [1, 2, 3, 4, 5]):\n",
    "    answer = 0\n",
    "    output = []\n",
    "    for i in x:\n",
    "        if type(i) is int:\n",
    "            answer += i\n",
    "            output.append(answer)\n",
    "    return output\n",
    "\n",
    "print(\"Answer is: \" , list_sum())\n",
    "\n",
    "print(\"Answer is: \" , list_sum([1, 3, 'a', 5, 6, 7]))"
   ]
  },
  {
   "cell_type": "code",
   "execution_count": 39,
   "metadata": {
    "collapsed": false
   },
   "outputs": [
    {
     "name": "stdout",
     "output_type": "stream",
     "text": [
      "Odd numbers in the functions are:  [5, 8, 10]\n"
     ]
    }
   ],
   "source": [
    "'''3. Function that returns the elements on odd positions in a list. Ex: input is [2,5,7,8,9,10], output: [5,8,10].'''\n",
    "\n",
    "def odd_position(x = [2, 5, 7, 8, 9, 10]):\n",
    "    answer = 0\n",
    "    output = []\n",
    "    for i in x:\n",
    "        if answer %2 == 1:\n",
    "            output.append(i)\n",
    "        answer += 1\n",
    "    return output\n",
    "\n",
    "print(\"Odd numbers in the functions are: \" , odd_position())"
   ]
  },
  {
   "cell_type": "code",
   "execution_count": 52,
   "metadata": {
    "collapsed": false
   },
   "outputs": [
    {
     "name": "stdout",
     "output_type": "stream",
     "text": [
      " ['a', 1, 'b', 2, 'c', 3]\n"
     ]
    }
   ],
   "source": [
    "'''4. Function that combines two lists by alternatingly taking elements. Ex: [a,b,c], [1,2,3] → [a,1,b,2,c,3]'''\n",
    "def list_alternate(x = [\"a\", \"b\", \"c\"], y = [1, 2, 3]):\n",
    "    output = []\n",
    "    if len(x) == len(y):\n",
    "        for i in range(len(x)):\n",
    "            output.append(x[i])\n",
    "            output.append(y[i])\n",
    "    return output\n",
    "print(\"\" , list_alternate())"
   ]
  },
  {
   "cell_type": "code",
   "execution_count": 14,
   "metadata": {
    "collapsed": false
   },
   "outputs": [
    {
     "name": "stdout",
     "output_type": "stream",
     "text": [
      "*********\n",
      "* ['Hello', 'World', 'in', 'a', 'frame'] *\n",
      "* ['Hello', 'World', 'in', 'a', 'frame'] *\n",
      "* ['Hello', 'World', 'in', 'a', 'frame'] *\n",
      "* ['Hello', 'World', 'in', 'a', 'frame'] *\n",
      "* ['Hello', 'World', 'in', 'a', 'frame'] *\n",
      "* ['Hello', 'World', 'in', 'a', 'frame'] *\n",
      "* ['Hello', 'World', 'in', 'a', 'frame'] *\n",
      "* ['Hello', 'World', 'in', 'a', 'frame'] *\n",
      "* ['Hello', 'World', 'in', 'a', 'frame'] *\n"
     ]
    }
   ],
   "source": [
    "'''5. A function that takes a list of strings and prints them, one per line, in a rectangular frame.'''\n",
    "\n",
    "    \n",
    "\n",
    "def items(x = [\"Hello\", \"World\", \"in\", \"a\", \"frame\"]):\n",
    "    print(\"*********\")\n",
    "    for i in range(0, 9):\n",
    "        print('*', x, '*')\n",
    "\n",
    "items()\n",
    "\n",
    "\n",
    "#extract the elements???"
   ]
  },
  {
   "cell_type": "code",
   "execution_count": 3,
   "metadata": {
    "collapsed": false
   },
   "outputs": [
    {
     "name": "stdout",
     "output_type": "stream",
     "text": [
      "['Hello', 'beautiful', 'word']\n"
     ]
    }
   ],
   "source": [
    "'''6. Function that takes a string and creates a list with single words as elements. Ex: input = ‘Hello beautiful word’ ← (string), output = [‘Hello’, ‘beautiful’, ‘word’] ← (List). '''\n",
    "x = \"Hello beautiful word\"\n",
    "words = x.split()\n",
    "print(words)"
   ]
  },
  {
   "cell_type": "code",
   "execution_count": 10,
   "metadata": {
    "collapsed": false
   },
   "outputs": [
    {
     "name": "stdout",
     "output_type": "stream",
     "text": [
      "['the', 'house', 'of', 'the', 'flying', 'tigers', 'and', 'the', 'flying', 'roaches']\n",
      "the:  3\n",
      "house: 1\n",
      "flying: 2\n"
     ]
    }
   ],
   "source": [
    "'''7.  function that counts how many times a word appears in a text. Use the function you wrote in #6.\n",
    "Ex: text = “The house of the flying tigers and the flying roaches”, number of occurrences of ‘the’ = 2,\n",
    "‘house’ = 1, ‘flying’ = 2, etc'''\n",
    "\n",
    "the = 0\n",
    "house = 0\n",
    "flying = 0\n",
    "s = \"the house of the flying tigers and the flying roaches\"\n",
    "t = s.split()\n",
    "for i in range(len(t)):\n",
    "    if t[i] == \"the\":\n",
    "        the += 1\n",
    "for i in range(len(t)):\n",
    "    if t[i] == \"house\":\n",
    "        house += 1\n",
    "for i in range(len(t)):\n",
    "    if t[i] == \"flying\":\n",
    "        flying += 1\n",
    "print(t)\n",
    "print(\"the: \", the)\n",
    "print(\"house:\" , house)\n",
    "print(\"flying:\" , flying)"
   ]
  },
  {
   "cell_type": "code",
   "execution_count": 38,
   "metadata": {
    "collapsed": false
   },
   "outputs": [
    {
     "ename": "SyntaxError",
     "evalue": "invalid syntax (<ipython-input-38-ab989238151a>, line 13)",
     "output_type": "error",
     "traceback": [
      "\u001b[0;36m  File \u001b[0;32m\"<ipython-input-38-ab989238151a>\"\u001b[0;36m, line \u001b[0;32m13\u001b[0m\n\u001b[0;31m    elif meal ==\u001b[0m\n\u001b[0m                 ^\u001b[0m\n\u001b[0;31mSyntaxError\u001b[0m\u001b[0;31m:\u001b[0m invalid syntax\n"
     ]
    }
   ],
   "source": [
    "'''Function that prints menus in the terminal. The input is a list of options, and the output is the option selected by the user.'''\n",
    "meal = input(\"What is your preference  (1-3)?. Press X to exit: \")\n",
    "def meals(x = [\"Meat\", \"Chicken\", \"Fish\"]):\n",
    "    output = \"\"\n",
    "    for i in x:\n",
    "        output.append(x[i])\n",
    "    if meal == \"1\":\n",
    "        print(i)\n",
    "    if meal == \"2\":\n",
    "        print(i)\n",
    "    if meal == \"3\":\n",
    "        print(i)\n",
    "    elif meal == \"X\":\n",
    "        return\n",
    "meals()"
   ]
  },
  {
   "cell_type": "code",
   "execution_count": null,
   "metadata": {
    "collapsed": false
   },
   "outputs": [],
   "source": []
  },
  {
   "cell_type": "code",
   "execution_count": null,
   "metadata": {
    "collapsed": true
   },
   "outputs": [],
   "source": []
  }
 ],
 "metadata": {
  "kernelspec": {
   "display_name": "Python [Root]",
   "language": "python",
   "name": "Python [Root]"
  },
  "language_info": {
   "codemirror_mode": {
    "name": "ipython",
    "version": 3
   },
   "file_extension": ".py",
   "mimetype": "text/x-python",
   "name": "python",
   "nbconvert_exporter": "python",
   "pygments_lexer": "ipython3",
   "version": "3.5.2"
  }
 },
 "nbformat": 4,
 "nbformat_minor": 0
}
