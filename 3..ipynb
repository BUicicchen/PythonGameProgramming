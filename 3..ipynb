{
 "cells": [
  {
   "cell_type": "code",
   "execution_count": 4,
   "metadata": {
    "collapsed": false
   },
   "outputs": [
    {
     "data": {
      "text/plain": [
       "'The machine shows the menu of coffees available.\\nUser will select the type of coffee he/she wants, the size, and the portions of sugar.\\nThen the machine shows the price and waits for the user to press START (representing that the user payed the money).\\nIf the user does not press start within 10 seconds, the machine starts over.\\nIf the user presses START, a message in the display of the machine shows the time until completion of the coffee.\\nOnce it is finish the machine displays “Ready” in its display.\\nPressing the CANCEL button any time before pressing START, resets the machine returning to the initial menu.\\nAny other action by the user is filtered out by the machine, that is, they has no effect on it.\\n'"
      ]
     },
     "execution_count": 4,
     "metadata": {},
     "output_type": "execute_result"
    }
   ],
   "source": [
    "'''The machine shows the menu of coffees available.\n",
    "User will select the type of coffee he/she wants, the size, and the portions of sugar.\n",
    "Then the machine shows the price and waits for the user to press START (representing that the user paid the money).\n",
    "If the user does not press start within 10 seconds, the machine starts over.\n",
    "If the user presses START, a message in the display of the machine shows the time until completion of the coffee.\n",
    "Once it is finish the machine displays “Ready” in its display.\n",
    "Pressing the CANCEL button any time before pressing START, resets the machine returning to the initial menu.\n",
    "Any other action by the user is filtered out by the machine, that is, they has no effect on it.\n",
    "'''"
   ]
  },
  {
   "cell_type": "code",
   "execution_count": null,
   "metadata": {
    "collapsed": false
   },
   "outputs": [
    {
     "name": "stdout",
     "output_type": "stream",
     "text": [
      "Buttons in the machine     Price Small     Price Big     Time required for preparation                              1. Latte                  20NT            30NT          6s                                                         2. Americano              30NT            50NT          4s                                                         3. Expresso               25NT            40NT          5s                                                          Sugar (0~5)               1NT per serve                                                                                                                                                                                              \n"
     ]
    }
   ],
   "source": [
    "import time\n",
    "while \"CANCEL\":\n",
    "    menu = print(\"Buttons in the machine     Price Small     Price Big     Time required for preparation                              \"     \n",
    "                 \"1. Latte                  20NT            30NT          6s                                                         \"\n",
    "                 \"2. Americano              30NT            50NT          4s                                                         \"\n",
    "                 \"3. Expresso               25NT            40NT          5s                                                          \"\n",
    "                 \"Sugar (0~5)               1NT per serve                                                                            \"\n",
    "                 \"                                                                                                                  \")\n",
    "    typeOfCoffee = input(\"Please select coffee type: \")\n",
    "\n",
    "    Latte = \"Latte\"\n",
    "    Americano = \"Americano\"\n",
    "    Expresso = \"Expresso\"\n",
    "\n",
    "    if typeOfCoffee == \"Latte\":\n",
    "        size = input(\"Please select a size: \")\n",
    "        if size == \"Small\":\n",
    "            priceOriginal = 20\n",
    "        if size == \"Big\":\n",
    "            priceOriginal = 30\n",
    "        elif size == \"CANCEL\":\n",
    "            continue\n",
    "\n",
    "        sugar = input(\"Sugar amount (0~5): \")\n",
    "        if sugar == \"CANCEL\":\n",
    "            continue\n",
    "        else:\n",
    "            sugar = int(sugar)\n",
    "            priceSugar = sugar\n",
    "\n",
    "        print(priceOriginal + priceSugar)\n",
    "        \n",
    "        time = 6\n",
    "\n",
    "    elif typeOfCoffee == \"Americano\":\n",
    "        size = input(\"Please select a size: \")\n",
    "        if size == \"Small\":\n",
    "            priceOriginal = 30\n",
    "        if size == \"Big\":\n",
    "            priceOriginal = 50\n",
    "        elif size == \"CANCEL\":\n",
    "            continue\n",
    "            \n",
    "        sugar = input(\"Sugar amount (0~5): \")\n",
    "        if sugar == \"CANCEL\":\n",
    "            continue\n",
    "        else:\n",
    "            sugar = int(sugar)\n",
    "            priceSugar = sugar\n",
    "\n",
    "        print(priceOriginal + priceSugar)\n",
    "        \n",
    "        time = 4\n",
    "\n",
    "    if typeOfCoffee == \"Expresso\":\n",
    "        size = input(\"Please select a size: \")\n",
    "        if size == \"Small\":\n",
    "            priceOriginal = 25\n",
    "        if size == \"Big\":\n",
    "            priceOriginal = 40\n",
    "        elif size == \"CANCEL\":\n",
    "            continue\n",
    "\n",
    "        sugar = input(\"Sugar amount (0~5): \")\n",
    "        if sugar == \"CANCEL\":\n",
    "            continue\n",
    "        else:\n",
    "            sugar = int(sugar)\n",
    "            priceSugar = sugar\n",
    "\n",
    "        print(priceOriginal + priceSugar)\n",
    "        \n",
    "        time = 5\n",
    "    \n",
    "    elif typeOfCoffee == \"CANCEL\":\n",
    "        continue\n",
    "            \n",
    "    \n",
    "    moneyPaid = input(\"Press START if paid money: \")\n",
    "    print(\"Time needed: \" , time)\n",
    "    print(\"Ready\")"
   ]
  },
  {
   "cell_type": "code",
   "execution_count": 1,
   "metadata": {
    "collapsed": true
   },
   "outputs": [],
   "source": []
  },
  {
   "cell_type": "code",
   "execution_count": 4,
   "metadata": {
    "collapsed": false
   },
   "outputs": [],
   "source": []
  },
  {
   "cell_type": "code",
   "execution_count": null,
   "metadata": {
    "collapsed": true
   },
   "outputs": [],
   "source": []
  }
 ],
 "metadata": {
  "anaconda-cloud": {},
  "kernelspec": {
   "display_name": "Python [Root]",
   "language": "python",
   "name": "Python [Root]"
  },
  "language_info": {
   "codemirror_mode": {
    "name": "ipython",
    "version": 3
   },
   "file_extension": ".py",
   "mimetype": "text/x-python",
   "name": "python",
   "nbconvert_exporter": "python",
   "pygments_lexer": "ipython3",
   "version": "3.5.2"
  }
 },
 "nbformat": 4,
 "nbformat_minor": 0
}
