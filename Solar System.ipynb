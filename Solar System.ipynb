{
 "cells": [
  {
   "cell_type": "code",
   "execution_count": 47,
   "metadata": {
    "collapsed": false
   },
   "outputs": [
    {
     "name": "stdout",
     "output_type": "stream",
     "text": [
      "Enter the planet name (Mercury, Venus, Mars, Jupiter, Saturn, Uranus, or Neptune: Mercury\n"
     ]
    }
   ],
   "source": [
    "'''This program shows the size and distance of the planets\n",
    "\n",
    "Users enter the planet name.\n",
    "\n",
    "'''\n",
    "\n",
    "index = [\"Mercury\", \"Venus\", \"Mars\", \"Jupiter\", \"Saturn\", \"Uranus\", \"Neptune\"]\n",
    "diameter = [4880, 12104, 7080, 139822, 116464, 50724, 49244]\n",
    "distance = [57.91, 261, 54.6, 588, 1200, 2500, 2700]\n",
    "\n",
    "planet = input(\"Enter the planet name (Mercury, Venus, Mars, Jupiter, Saturn, Uranus, or Neptune: \")"
   ]
  },
  {
   "cell_type": "code",
   "execution_count": 48,
   "metadata": {
    "collapsed": false
   },
   "outputs": [
    {
     "name": "stdout",
     "output_type": "stream",
     "text": [
      "Mercury\n"
     ]
    }
   ],
   "source": [
    "print(planet)"
   ]
  },
  {
   "cell_type": "code",
   "execution_count": 49,
   "metadata": {
    "collapsed": false
   },
   "outputs": [
    {
     "name": "stdout",
     "output_type": "stream",
     "text": [
      "The diameter of Mercury is0.3274610823386502 km.\n",
      "The distance from Earth is4879.0 million km.\n"
     ]
    }
   ],
   "source": [
    "if planet == \"Mercury\":\n",
    "    index = index.index(\"Mercury\")\n",
    "    size = float(((3/4)*3.14*pow((diameter[index]*0.5),3))/((3/4)*3.14*pow((diameter[2]*0.5),3)))\n",
    "    distance = float(math.sqrt(pow((1.00 - diameter[index]),2)))\n",
    "    print(\"The diameter of Mercury is\" + str(size) + \" km.\")\n",
    "    print(\"The distance from Earth is\" + str(distance) + \" million km.\")\n",
    "    \n",
    "elif planet == \"Venus\":\n",
    "    index = index.index(\"Venus\")\n",
    "    size = float(((3/4)*3.14*pow((diameter[index]*0.5),3))/((3/4)*3.14*pow((diameter[2]*0.5),3)))\n",
    "    distance = float(math.sqrt(pow((1.00 - diameter[index]),2)))\n",
    "    print(\"The diameter of Venus is\" + str(size) + \" km.\")\n",
    "    print(\"The distance from Earth is\" + str(distance) + \" million km.\")\n",
    "\n",
    "elif planet == \"Mars\":\n",
    "    index = index.index(\"Mars\")\n",
    "    size = float(((3/4)*3.14*pow((diameter[index]*0.5),3))/((3/4)*3.14*pow((diameter[2]*0.5),3)))\n",
    "    distance = float(math.sqrt(pow((1.00 - diameter[index]),2)))\n",
    "    print(\"The diameter of Mars is\" + str(size) + \" km.\")\n",
    "    print(\"The distance from Earth is\" + str(distance) + \" million km.\")\n",
    "    \n",
    "elif planet == \"Jupiter\":\n",
    "    index = index.index(\"Jupiter\")\n",
    "    size = float(((3/4)*3.14*pow((diameter[index]*0.5),3))/((3/4)*3.14*pow((diameter[2]*0.5),3)))\n",
    "    distance = float(math.sqrt(pow((1.00 - diameter[index]),2)))\n",
    "    print(\"The diameter of Jupiter is\" + str(size) + \" km.\")\n",
    "    print(\"The distance from Earth is\" + str(distance) + \" million km.\")\n",
    "    \n",
    "elif planet == \"Saturn\":\n",
    "    index = index.index(\"Saturn\")\n",
    "    size = float(((3/4)*3.14*pow((diameter[index]*0.5),3))/((3/4)*3.14*pow((diameter[2]*0.5),3)))\n",
    "    distance = float(math.sqrt(pow((1.00 - diameter[index]),2)))\n",
    "    print(\"The diameter of Saturn is\" + str(size) + \" km.\")\n",
    "    print(\"The distance from Earth is\" + str(distance) + \" million km.\")\n",
    "\n",
    "elif planet == \"Uranus\":\n",
    "    index = index.index(\"Uranus\")\n",
    "    size = float(((3/4)*3.14*pow((diameter[index]*0.5),3))/((3/4)*3.14*pow((diameter[2]*0.5),3)))\n",
    "    distance = float(math.sqrt(pow((1.00 - diameter[index]),2)))\n",
    "    print(\"The diameter of Uranus is\" + str(size) + \" km.\")\n",
    "    print(\"The distance from Earth is\" + str(distance) + \" million km.\")\n",
    "    \n",
    "elif planet == \"Neptune\":\n",
    "    index = index.index(\"Neptune\")\n",
    "    size = float(((3/4)*3.14*pow((diameter[index]*0.5),3))/((3/4)*3.14*pow((diameter[2]*0.5),3)))\n",
    "    distance = float(math.sqrt(pow((1.00 - diameter[index]),2)))\n",
    "    print(\"The diameter of Neptune is\" + str(size) + \" km.\")\n",
    "    print(\"The distance from Earth is\" + str(distance) + \" million km.\")\n",
    "\n",
    "else:\n",
    "    print(\"Not a planet.\")"
   ]
  },
  {
   "cell_type": "code",
   "execution_count": null,
   "metadata": {
    "collapsed": true
   },
   "outputs": [],
   "source": []
  }
 ],
 "metadata": {
  "anaconda-cloud": {},
  "kernelspec": {
   "display_name": "Python [Root]",
   "language": "python",
   "name": "Python [Root]"
  },
  "language_info": {
   "codemirror_mode": {
    "name": "ipython",
    "version": 3
   },
   "file_extension": ".py",
   "mimetype": "text/x-python",
   "name": "python",
   "nbconvert_exporter": "python",
   "pygments_lexer": "ipython3",
   "version": "3.5.2"
  }
 },
 "nbformat": 4,
 "nbformat_minor": 0
}
