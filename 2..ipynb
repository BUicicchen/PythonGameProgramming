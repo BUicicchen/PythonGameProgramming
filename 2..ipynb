{
 "cells": [
  {
   "cell_type": "code",
   "execution_count": 1,
   "metadata": {
    "collapsed": false
   },
   "outputs": [
    {
     "data": {
      "text/plain": [
       "'This program receives two pairs of points and returns the equation of the line crossing those points. The equations will be shown in standard, slope-intercept, and point-slope forms.'"
      ]
     },
     "execution_count": 1,
     "metadata": {},
     "output_type": "execute_result"
    }
   ],
   "source": [
    "'''This program receives two pairs of points and returns the equation of the line crossing those points. The equations will be shown in standard, slope-intercept, and point-slope forms.'''"
   ]
  },
  {
   "cell_type": "code",
   "execution_count": 4,
   "metadata": {
    "collapsed": false
   },
   "outputs": [
    {
     "name": "stdout",
     "output_type": "stream",
     "text": [
      "Please input x1: 3\n",
      "Please input y1: 4\n",
      "Please input x2: 5\n",
      "Please input y2: 4\n",
      "The slope-intercept form of the line that goes through these points is:\n",
      "y =  0 x +  4.0\n",
      "The point-slope form of the line that goes through these points is:\n",
      "(y2 - y1) =  0 (x2 - x1)\n"
     ]
    },
    {
     "ename": "TypeError",
     "evalue": "unsupported operand type(s) for &: 'float' and 'float'",
     "output_type": "error",
     "traceback": [
      "\u001b[0;31m---------------------------------------------------------------------------\u001b[0m",
      "\u001b[0;31mTypeError\u001b[0m                                 Traceback (most recent call last)",
      "\u001b[0;32m<ipython-input-4-69e3e99bb516>\u001b[0m in \u001b[0;36m<module>\u001b[0;34m()\u001b[0m\n\u001b[1;32m     29\u001b[0m     \u001b[0mprint\u001b[0m\u001b[0;34m(\u001b[0m\u001b[0;34m\"(y2 - y1) = \"\u001b[0m \u001b[0;34m,\u001b[0m \u001b[0mslope\u001b[0m \u001b[0;34m,\u001b[0m \u001b[0;34m\"(x2 - x1)\"\u001b[0m\u001b[0;34m)\u001b[0m\u001b[0;34m\u001b[0m\u001b[0m\n\u001b[1;32m     30\u001b[0m \u001b[0;34m\u001b[0m\u001b[0m\n\u001b[0;32m---> 31\u001b[0;31m     \u001b[0;32mif\u001b[0m \u001b[0mA\u001b[0m \u001b[0;34m&\u001b[0m \u001b[0mB\u001b[0m \u001b[0;34m!=\u001b[0m \u001b[0;36m0\u001b[0m\u001b[0;34m:\u001b[0m\u001b[0;34m\u001b[0m\u001b[0m\n\u001b[0m\u001b[1;32m     32\u001b[0m         \u001b[0mprint\u001b[0m\u001b[0;34m(\u001b[0m\u001b[0;34m\"The standard form of the line that goes through these points is:\"\u001b[0m\u001b[0;34m)\u001b[0m\u001b[0;34m\u001b[0m\u001b[0m\n\u001b[1;32m     33\u001b[0m         \u001b[0mprint\u001b[0m\u001b[0;34m(\u001b[0m\u001b[0mA\u001b[0m\u001b[0;34m,\u001b[0m\u001b[0;34m\"x\"\u001b[0m\u001b[0;34m,\u001b[0m \u001b[0;34m\"+\"\u001b[0m \u001b[0;34m,\u001b[0m\u001b[0mB\u001b[0m \u001b[0;34m,\u001b[0m \u001b[0;34m\"y\"\u001b[0m \u001b[0;34m,\u001b[0m \u001b[0;34m\"+\"\u001b[0m\u001b[0;34m,\u001b[0m \u001b[0mC\u001b[0m \u001b[0;34m,\u001b[0m \u001b[0;34m\"= 0\"\u001b[0m\u001b[0;34m)\u001b[0m\u001b[0;34m\u001b[0m\u001b[0m\n",
      "\u001b[0;31mTypeError\u001b[0m: unsupported operand type(s) for &: 'float' and 'float'"
     ]
    }
   ],
   "source": [
    "x1 = input(\"Please input x1: \")\n",
    "y1 = input(\"Please input y1: \")\n",
    "x2 = input(\"Please input x2: \")\n",
    "y2 = input(\"Please input y2: \")\n",
    "\n",
    "x1 = float(x1)\n",
    "y1 = float(y1)\n",
    "x2 = float(x2)\n",
    "y2 = float(y2)\n",
    "\n",
    "if x2 - x1 == 0:\n",
    "    print(\"Please restart the program, the slope is undefined.\")\n",
    "\n",
    "else:\n",
    "    slope = (y2 - y1)/(x2 - x1)\n",
    "    from fractions import Fraction\n",
    "    slope = Fraction(slope).limit_denominator()\n",
    "\n",
    "    b = y1 - (slope * x1)\n",
    "    b = float(b)\n",
    "    A = y2 - y1\n",
    "    B = x1 - x2\n",
    "    C = 0 - b * B\n",
    "\n",
    "    print(\"The slope-intercept form of the line that goes through these points is:\")\n",
    "    print(\"y = \",slope,\"x + \",b)\n",
    "\n",
    "    print(\"The point-slope form of the line that goes through these points is:\")\n",
    "    print(\"(y2 - y1) = \" , slope , \"(x2 - x1)\")\n",
    "    \n",
    "    print(\"The standard form of the line that goes through these points is:\")\n",
    "    print(A,\"x\", \"+\" ,B , \"y\" , \"+\", C , \"= 0\")"
   ]
  },
  {
   "cell_type": "markdown",
   "metadata": {},
   "source": []
  }
 ],
 "metadata": {
  "anaconda-cloud": {},
  "kernelspec": {
   "display_name": "Python [Root]",
   "language": "python",
   "name": "Python [Root]"
  },
  "language_info": {
   "codemirror_mode": {
    "name": "ipython",
    "version": 3
   },
   "file_extension": ".py",
   "mimetype": "text/x-python",
   "name": "python",
   "nbconvert_exporter": "python",
   "pygments_lexer": "ipython3",
   "version": "3.5.2"
  }
 },
 "nbformat": 4,
 "nbformat_minor": 0
}
