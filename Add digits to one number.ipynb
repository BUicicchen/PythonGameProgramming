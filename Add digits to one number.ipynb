{
 "cells": [
  {
   "cell_type": "code",
   "execution_count": 1,
   "metadata": {
    "collapsed": false
   },
   "outputs": [
    {
     "data": {
      "text/plain": [
       "'This program repeatedly add all digits of a non-negative integer number until the result has only one digit.'"
      ]
     },
     "execution_count": 1,
     "metadata": {},
     "output_type": "execute_result"
    }
   ],
   "source": [
    "'''This program repeatedly add all digits of a non-negative integer number until the result has only one digit.'''"
   ]
  },
  {
   "cell_type": "code",
   "execution_count": 21,
   "metadata": {
    "collapsed": false
   },
   "outputs": [
    {
     "name": "stdout",
     "output_type": "stream",
     "text": [
      "Please enter number: 782\n",
      "17\n",
      "8\n"
     ]
    }
   ],
   "source": [
    "number = input(\"Please enter number: \")\n",
    "number = int(number)\n",
    "\n",
    "while number >= 10:\n",
    "    digit = 0\n",
    "    while number != 0:\n",
    "        module, residual = (divmod(number,10))\n",
    "        number = module\n",
    "        digit += residual\n",
    "    print(digit)\n",
    "    number = digit"
   ]
  },
  {
   "cell_type": "code",
   "execution_count": null,
   "metadata": {
    "collapsed": true
   },
   "outputs": [],
   "source": []
  }
 ],
 "metadata": {
  "anaconda-cloud": {},
  "kernelspec": {
   "display_name": "Python [Root]",
   "language": "python",
   "name": "Python [Root]"
  },
  "language_info": {
   "codemirror_mode": {
    "name": "ipython",
    "version": 3
   },
   "file_extension": ".py",
   "mimetype": "text/x-python",
   "name": "python",
   "nbconvert_exporter": "python",
   "pygments_lexer": "ipython3",
   "version": "3.5.2"
  }
 },
 "nbformat": 4,
 "nbformat_minor": 0
}
