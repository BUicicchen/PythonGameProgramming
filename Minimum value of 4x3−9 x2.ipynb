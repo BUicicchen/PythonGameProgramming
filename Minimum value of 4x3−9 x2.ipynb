{
 "cells": [
  {
   "cell_type": "code",
   "execution_count": 27,
   "metadata": {
    "collapsed": false
   },
   "outputs": [],
   "source": [
    "'''This program finds the minimum value of the function 4x3−9 x2.\n",
    "They way you can proceed is make an algorithm that “walks” (see figure) the function \n",
    "and compares the values in consecutive steps until the difference is below a desired precision.'''\n",
    "\n",
    "import random\n",
    "x1 = random.randint(-100 , 100)"
   ]
  },
  {
   "cell_type": "code",
   "execution_count": 28,
   "metadata": {
    "collapsed": false
   },
   "outputs": [
    {
     "name": "stdout",
     "output_type": "stream",
     "text": [
      "37\n"
     ]
    }
   ],
   "source": [
    "print(x1)"
   ]
  },
  {
   "cell_type": "code",
   "execution_count": 29,
   "metadata": {
    "collapsed": false
   },
   "outputs": [
    {
     "name": "stdout",
     "output_type": "stream",
     "text": [
      "206492\n"
     ]
    }
   ],
   "source": [
    "x2 = x1 + 1\n",
    "y2 = 4 * (x2**3) - 9 * (x2**2)\n",
    "print(y2)"
   ]
  },
  {
   "cell_type": "code",
   "execution_count": 30,
   "metadata": {
    "collapsed": false
   },
   "outputs": [
    {
     "name": "stdout",
     "output_type": "stream",
     "text": [
      "174960\n"
     ]
    }
   ],
   "source": [
    "x3 = x1 - 1\n",
    "y3 = 4 * (x3**3) - 9 * (x3**2)\n",
    "print(y3)"
   ]
  },
  {
   "cell_type": "code",
   "execution_count": 31,
   "metadata": {
    "collapsed": false
   },
   "outputs": [
    {
     "name": "stdout",
     "output_type": "stream",
     "text": [
      "-1\n"
     ]
    }
   ],
   "source": [
    "#check the slope\n",
    "if y3 < y2:\n",
    "    slope = -1\n",
    "    print(slope)\n",
    "else:\n",
    "    slope = 1 #positive slope\n",
    "    print(slope)"
   ]
  },
  {
   "cell_type": "code",
   "execution_count": 32,
   "metadata": {
    "collapsed": false
   },
   "outputs": [],
   "source": [
    "while abs(y3 - y2) < 0.01:\n",
    "    y = 4 * (x1**3) - 9 * (x1**2)\n",
    "    print(\"The minimum is: \" + y)"
   ]
  },
  {
   "cell_type": "code",
   "execution_count": 33,
   "metadata": {
    "collapsed": false
   },
   "outputs": [
    {
     "name": "stdout",
     "output_type": "stream",
     "text": [
      "Can't find the minimum value.\n"
     ]
    }
   ],
   "source": [
    "print(\"Can't find the minimum value.\")"
   ]
  },
  {
   "cell_type": "code",
   "execution_count": null,
   "metadata": {
    "collapsed": true
   },
   "outputs": [],
   "source": []
  }
 ],
 "metadata": {
  "anaconda-cloud": {},
  "kernelspec": {
   "display_name": "Python [Root]",
   "language": "python",
   "name": "Python [Root]"
  },
  "language_info": {
   "codemirror_mode": {
    "name": "ipython",
    "version": 3
   },
   "file_extension": ".py",
   "mimetype": "text/x-python",
   "name": "python",
   "nbconvert_exporter": "python",
   "pygments_lexer": "ipython3",
   "version": "3.5.2"
  }
 },
 "nbformat": 4,
 "nbformat_minor": 0
}
