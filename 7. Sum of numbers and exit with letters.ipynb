{
 "cells": [
  {
   "cell_type": "code",
   "execution_count": 1,
   "metadata": {
    "collapsed": false
   },
   "outputs": [
    {
     "data": {
      "text/plain": [
       "'This program sum up the numbers the user enters, and finalize when entering a letter.'"
      ]
     },
     "execution_count": 1,
     "metadata": {},
     "output_type": "execute_result"
    }
   ],
   "source": [
    "'''This program sum up the numbers the user enters, and finalize when entering a letter.'''"
   ]
  },
  {
   "cell_type": "code",
   "execution_count": 4,
   "metadata": {
    "collapsed": true
   },
   "outputs": [],
   "source": [
    "import itertools\n",
    "\n",
    "vinput = 0\n",
    "vAcc = 0\n",
    "iter = 0"
   ]
  },
  {
   "cell_type": "code",
   "execution_count": null,
   "metadata": {
    "collapsed": false
   },
   "outputs": [
    {
     "name": "stdout",
     "output_type": "stream",
     "text": [
      "Please enter a value (0 - 100), letter to finalize: 23\n",
      "23 1\n",
      "Please enter a value (0 - 100), letter to finalize: s\n",
      "Oops!  That was no valid number.  Try again...\n",
      "Please enter a value (0 - 100), letter to finalize: 32\n",
      "55 2\n",
      "Please enter a value (0 - 100), letter to finalize: f\n",
      "Oops!  That was no valid number.  Try again...\n",
      "Please enter a value (0 - 100), letter to finalize: 345\n"
     ]
    }
   ],
   "source": [
    "for i in itertools.count():\n",
    "    vinput = input(\"Please enter a value (0 - 100), letter to finalize: \")\n",
    "    try:\n",
    "        vinput = int(vinput)\n",
    "    except ValueError:\n",
    "        print(\"Oops!  That was no valid number.  Try again...\")\n",
    "        continue\n",
    "            \n",
    "    if 0 <= vinput <= 100:\n",
    "        vAcc += vinput\n",
    "        iter += 1\n",
    "        print(vAcc, iter)\n"
   ]
  },
  {
   "cell_type": "code",
   "execution_count": null,
   "metadata": {
    "collapsed": true
   },
   "outputs": [],
   "source": []
  }
 ],
 "metadata": {
  "kernelspec": {
   "display_name": "Python [Root]",
   "language": "python",
   "name": "Python [Root]"
  },
  "language_info": {
   "codemirror_mode": {
    "name": "ipython",
    "version": 3
   },
   "file_extension": ".py",
   "mimetype": "text/x-python",
   "name": "python",
   "nbconvert_exporter": "python",
   "pygments_lexer": "ipython3",
   "version": "3.5.2"
  }
 },
 "nbformat": 4,
 "nbformat_minor": 0
}
